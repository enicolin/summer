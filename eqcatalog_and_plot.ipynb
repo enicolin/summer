{
 "cells": [
  {
   "cell_type": "code",
   "execution_count": 1,
   "metadata": {
    "collapsed": true
   },
   "outputs": [],
   "source": [
    "import numpy as np\n",
    "import random as rnd\n",
    "import eq_functions as eq\n",
    "import pandas as pd\n",
    "\n",
    "np.random.seed(1756)\n",
    "rnd.seed(1756)\n"
   ]
  },
  {
   "cell_type": "code",
   "execution_count": 2,
   "metadata": {
    "collapsed": true
   },
   "outputs": [],
   "source": [
    "# define parameters\n",
    "Nt = 1000\n",
    "Tf = 32 # unit time\n",
    "a = np.log10(Nt)\n",
    "b = 1.\n",
    "c = 1.\n",
    "cprime = 1.\n",
    "p = 1.1\n",
    "pprime = 1.8\n",
    "Mc = 3.\n",
    "smin = 0.8 # minimum seismicity allowable on an interval so that it doesn't get too small\n",
    "k = 10**a * (1-p)/((c+Tf)**(1-p) - c**(1-p)) # k from Omori -needed for adaptive time increment\n",
    "\n",
    "prms = pd.Series([Nt,Tf,b,c,cprime,p,pprime,Mc,smin],\n",
    "                 index = ['Nt','Tf','b','c','cprime','p','pprime','Mc','smin'])"
   ]
  },
  {
   "cell_type": "code",
   "execution_count": 3,
   "metadata": {},
   "outputs": [
    {
     "ename": "TypeError",
     "evalue": "generate_catalog() missing 3 required positional arguments: 't0', 'catalog_list', and 'gen'",
     "output_type": "error",
     "traceback": [
      "\u001b[1;31m---------------------------------------------------------------------------\u001b[0m",
      "\u001b[1;31mTypeError\u001b[0m                                 Traceback (most recent call last)",
      "\u001b[1;32m<ipython-input-3-dac8c8e9cdb3>\u001b[0m in \u001b[0;36m<module>\u001b[1;34m()\u001b[0m\n\u001b[0;32m      1\u001b[0m \u001b[1;31m# generate catalog\u001b[0m\u001b[1;33m\u001b[0m\u001b[1;33m\u001b[0m\u001b[0m\n\u001b[1;32m----> 2\u001b[1;33m \u001b[0mcatalog\u001b[0m\u001b[1;33m,\u001b[0m \u001b[0mtotal_events\u001b[0m \u001b[1;33m=\u001b[0m \u001b[0meq\u001b[0m\u001b[1;33m.\u001b[0m\u001b[0mgenerate_catalog\u001b[0m\u001b[1;33m(\u001b[0m\u001b[0mprms\u001b[0m\u001b[1;33m)\u001b[0m\u001b[1;33m\u001b[0m\u001b[0m\n\u001b[0m\u001b[0;32m      3\u001b[0m \u001b[1;33m\u001b[0m\u001b[0m\n\u001b[0;32m      4\u001b[0m \u001b[1;31m# plot catalog\u001b[0m\u001b[1;33m\u001b[0m\u001b[1;33m\u001b[0m\u001b[0m\n\u001b[0;32m      5\u001b[0m \u001b[0meq\u001b[0m\u001b[1;33m.\u001b[0m\u001b[0mplot_catalog\u001b[0m\u001b[1;33m(\u001b[0m\u001b[0mcatalog\u001b[0m\u001b[1;33m)\u001b[0m\u001b[1;33m\u001b[0m\u001b[0m\n",
      "\u001b[1;31mTypeError\u001b[0m: generate_catalog() missing 3 required positional arguments: 't0', 'catalog_list', and 'gen'"
     ]
    }
   ],
   "source": [
    "# generate catalog\n",
    "catalog, total_events = eq.generate_catalog(prms)\n",
    "\n",
    "# plot catalog\n",
    "eq.plot_catalog(catalog)\n",
    "\n",
    "#catalog.to_csv('catalog.csv')"
   ]
  }
 ],
 "metadata": {
  "kernelspec": {
   "display_name": "Python 3",
   "language": "python",
   "name": "python3"
  },
  "language_info": {
   "codemirror_mode": {
    "name": "ipython",
    "version": 3
   },
   "file_extension": ".py",
   "mimetype": "text/x-python",
   "name": "python",
   "nbconvert_exporter": "python",
   "pygments_lexer": "ipython3",
   "version": "3.6.6"
  }
 },
 "nbformat": 4,
 "nbformat_minor": 2
}
