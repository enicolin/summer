{
 "cells": [
  {
   "cell_type": "code",
   "execution_count": 1,
   "metadata": {
    "collapsed": true
   },
   "outputs": [],
   "source": [
    "%config InlineBackend.figure_format = 'svg'\n",
    "import ipywidgets as widgets\n",
    "from IPython.display import display \n",
    "import matplotlib.pyplot as plt\n",
    "from scipy.special import erf\n",
    "from mpmath import e1 as W\n",
    "import numpy as np\n",
    "import eq_functions as eq\n",
    "\n",
    "# dimensionless pressure 1D, 2D, 3D\n",
    "p1 = lambda r, t: 4*(np.pi*t)**0.5*np.exp(-r**2/t) - 4*np.pi*r*(1-erf(r/t**.5))\n",
    "p2 = lambda r, t: float(W(r**2/t))\n",
    "p3 = lambda r, t: 1/r * (1 - erf(r/t**0.5))\n",
    "\n",
    "# dimensionless pressure after injection being cut at characteristic time \n",
    "p1T = lambda r, t: p1(r,t)-p1(r,t-1)\n",
    "p2T = lambda r, t: p2(r,t) - p2(r,t-1)\n",
    "p3T = lambda r, t: p3(r,t) - p3(r,t-1)\n",
    "\n",
    "# backfront\n",
    "rbf1 = lambda t: (0.5*t*(t-1) * np.log(t/(t-1)))**0.5\n",
    "rbf2 = lambda t: (t*(t-1) * np.log(t/(t-1)))**0.5\n",
    "rbf3 = lambda t: (1.5*t*(t-1) * np.log(t/(t-1)))**0.5\n",
    "\n",
    "# maximum pressure p(r) from backfront\n",
    "pmax1 = lambda r: 4*(np.pi)**0.5*((1+2*r**2)**0.5*np.exp(-r**2/(1+2*r**2)) - 2**0.5*r*np.exp(-0.5) - np.pi**0.5*r*(-erf(r/(1+2*r**2)**0.5)+(erf(1/2**0.5))))\n",
    "pmax2 = lambda r: [float(W(1/(1+1/ri**2))) - float(W(1)) for ri in r]\n",
    "pmax3 = lambda r: 1/r*(-erf(r/(1+2*r**2/3)**0.5) + (erf(1.5**0.5)))"
   ]
  },
  {
   "cell_type": "code",
   "execution_count": 2,
   "metadata": {},
   "outputs": [
    {
     "data": {
      "application/vnd.jupyter.widget-view+json": {
       "model_id": "4e4ec44495fb436e87f182454d0e53e9"
      }
     },
     "metadata": {},
     "output_type": "display_data"
    }
   ],
   "source": [
    "# COSNTANT RADIAL PRESSURE DIFFUSION\n",
    "def plot_pr(t):\n",
    "    r1 = np.linspace(0,10,500)\n",
    "    p1d = p1(r1,t)\n",
    "    \n",
    "    r2 = np.linspace(0.001,10,500)\n",
    "    p2d = np.array([p2(ri,t) for ri in r2])\n",
    "    \n",
    "    r3 = np.linspace(0.001,10,500)\n",
    "    p3d = p3(r3,t)\n",
    "    \n",
    "    f, ax = plt.subplots(1, figsize = (6,4))\n",
    "    ax.plot(r1, p1d, label='1D')\n",
    "    ax.plot(r2, p2d, label='2D')\n",
    "    ax.plot(r3, p3d, label='3D')\n",
    "    plt.xlim([0,8])\n",
    "    plt.ylim([0,20])\n",
    "    ax.set_title('pressure diffusion in 1D,2D,3D')\n",
    "    ax.set_xlabel('r')\n",
    "    ax.set_ylabel('p')\n",
    "    plt.legend()\n",
    "    plt.show()\n",
    "\n",
    "time = widgets.FloatSlider(value = 0.001, min = 0.001, max = 10, step = 0.1)\n",
    "\n",
    "plot_pr = widgets.interactive(plot_pr, t = time)\n",
    "\n",
    "display(plot_pr)\n"
   ]
  },
  {
   "cell_type": "code",
   "execution_count": 3,
   "metadata": {},
   "outputs": [
    {
     "data": {
      "application/vnd.jupyter.widget-view+json": {
       "model_id": "72b09a78a23e46c6ae161b056ba0d9c5"
      }
     },
     "metadata": {},
     "output_type": "display_data"
    }
   ],
   "source": [
    "# RADIAL PRESSURE DIFFUSION AFTER INJECTION FOR TIME T\n",
    "def plot_pr_injT(t):\n",
    "    r1 = np.linspace(0,10,500)\n",
    "    p1 = p1T(r1,t)\n",
    "    \n",
    "    r2 = np.linspace(0,10,500)\n",
    "    p2 = np.array([p2T(ri,t) for ri in r2])\n",
    "    \n",
    "    r3 = np.linspace(0.001,10,500)\n",
    "    p3 = p3T(r3,t)\n",
    "    \n",
    "    f, ax = plt.subplots(1, figsize = (6,4))\n",
    "    ax.plot(r1, p1, label='1D')\n",
    "    ax.plot(r2, p2, label='2D')\n",
    "    ax.plot(r3, p3, label='3D')\n",
    "    plt.xlim([0,8])\n",
    "    plt.ylim([0,20])\n",
    "    ax.set_title('pressure diffusion in 1D,2D,3D after injection of time T')\n",
    "    ax.set_xlabel('r')\n",
    "    ax.set_ylabel('p')\n",
    "    plt.legend()\n",
    "    plt.show()\n",
    "\n",
    "time = widgets.FloatSlider(value = 1, min = 1.001, max = 10, step = 0.1)\n",
    "\n",
    "plot_pr = widgets.interactive(plot_pr_injT, t = time)\n",
    "\n",
    "display(plot_pr)"
   ]
  },
  {
   "cell_type": "code",
   "execution_count": 4,
   "metadata": {},
   "outputs": [
    {
     "data": {
      "application/vnd.jupyter.widget-view+json": {
       "model_id": "9854675e9ed84d278e9dc0bf89ba6dc5"
      }
     },
     "metadata": {},
     "output_type": "display_data"
    }
   ],
   "source": [
    "# RADIAL PRESSURE DIFFUSION - INJECTION FOR TIME T FOLLOWED BY ABRUPT STOP\n",
    "def plot_injectioncut(t):\n",
    "    n = 1000\n",
    "    if t <= 1:\n",
    "        r1 = np.linspace(0,10,n)\n",
    "        p1d = p1(r1,t)\n",
    "\n",
    "        r2 = np.linspace(0.001,10,n)\n",
    "        p2d = np.array([p2(ri,t) for ri in r2])\n",
    "\n",
    "        r3 = np.linspace(0.001,10,n)\n",
    "        p3d = p3(r3,t)\n",
    "\n",
    "        f, ax = plt.subplots(1, figsize = (6,4))\n",
    "        ax.plot(r1, p1d, label='1D')\n",
    "        ax.plot(r2, p2d, label='2D')\n",
    "        ax.plot(r3, p3d, label='3D')\n",
    "\n",
    "    else:\n",
    "        r1 = np.linspace(0,10,n)\n",
    "        p1d = p1T(r1,t)\n",
    "\n",
    "        r2 = np.linspace(0,10,n)\n",
    "        p2d = np.array([p2T(ri,t) for ri in r2])\n",
    "\n",
    "        r3 = np.linspace(0.001,10,n)\n",
    "        p3d = p3T(r3,t)\n",
    "\n",
    "        f, ax = plt.subplots(1, figsize = (6,4))\n",
    "        ax.plot(r1, p1d, label='1D')\n",
    "        ax.plot(r2, p2d, label='2D')\n",
    "        ax.plot(r3, p3d, label='3D')\n",
    "        \n",
    "    plt.xlim([0,2])\n",
    "    plt.ylim([0,12])\n",
    "    ax.set_title('pressure diffusion (injection cut at time 1)')\n",
    "    ax.set_xlabel('r')\n",
    "    ax.set_ylabel('p')\n",
    "    plt.legend()\n",
    "    plt.show()\n",
    "\n",
    "time = widgets.FloatSlider(value = 1e-3, min = 1e-3, max = 3, step = 1e-2)\n",
    "\n",
    "plot_pr_inj = widgets.interactive(plot_injectioncut, t = time)\n",
    "\n",
    "display(plot_pr_inj)"
   ]
  },
  {
   "cell_type": "markdown",
   "metadata": {},
   "source": [
    "$ \\frac{\\partial p}{\\partial t} = 0 $ gives the backfront r-t trajectory, which can be used to determine maximum pressure at a given distance using the solutions for pressure"
   ]
  },
  {
   "cell_type": "code",
   "execution_count": 8,
   "metadata": {
    "scrolled": false
   },
   "outputs": [
    {
     "data": {
      "application/vnd.jupyter.widget-view+json": {
       "model_id": "af36bfd1f3154b8ca259e242659df7db"
      }
     },
     "metadata": {},
     "output_type": "display_data"
    }
   ],
   "source": [
    "def plot_maxpressure(alphaT, knuq):\n",
    "    n = 500\n",
    "    r0 = 1\n",
    "    r1 = 1000\n",
    "    r = np.linspace(r0,r1,n)\n",
    "    dml = True\n",
    "    pmax1d = eq.p1D(r, alphaT, knuq)\n",
    "    pmax2d = eq.p2D(r, alphaT, knuq)\n",
    "    pmax3d = eq.p3D(r, alphaT, knuq)\n",
    "    \n",
    "    pmax1d /= pmax1d[0]\n",
    "    pmax2d /= pmax2d[0]\n",
    "    pmax3d /= pmax3d[0]\n",
    "\n",
    "    f, ax = plt.subplots(nrows=1,ncols=2,figsize=(10,4))\n",
    "    ax1 = ax[0]\n",
    "    ax1.plot(r,pmax1d, label='1D')\n",
    "    ax1.plot(r,pmax2d, label='2D')\n",
    "    ax1.plot(r,pmax3d, label='3D')\n",
    "    ax1.set_ylim(0,30)\n",
    "    ax1.set_xlim(r0,r1)\n",
    "    ax1.set_xlabel('r')\n",
    "    ax1.set_ylabel('pmax')\n",
    "    ax1.set_title('backfront pressure')\n",
    "    ax1.legend()\n",
    "\n",
    "    ax2 = ax[1]\n",
    "    ax2.plot(r,pmax1d, label='1D')\n",
    "    ax2.plot(r,pmax2d, label='2D')\n",
    "    ax2.plot(r,pmax3d, label='3D')\n",
    "    ax2.set_xscale('log')\n",
    "    ax2.set_yscale('log')\n",
    "    ax2.legend()\n",
    "    ax2.set_xlabel('r')\n",
    "    ax2.set_ylabel('pmax')\n",
    "    ax2.set_title('backfront pressure - loglog')\n",
    "\n",
    "    plt.show()\n",
    "\n",
    "T = widgets.FloatSlider(value = 1, min = 1e-3, max = 1e7, step = 1e3)\n",
    "alpha = widgets.FloatSlider(value = 1, min = 1e-12, max = 1, step = 1e-12)\n",
    "maxp_widg = widgets.interactive(plot_maxpressure, alphaT = T, knuq = alpha)\n",
    "\n",
    "display(maxp_widg)"
   ]
  }
 ],
 "metadata": {
  "kernelspec": {
   "display_name": "Python 3",
   "language": "python",
   "name": "python3"
  },
  "language_info": {
   "codemirror_mode": {
    "name": "ipython",
    "version": 3
   },
   "file_extension": ".py",
   "mimetype": "text/x-python",
   "name": "python",
   "nbconvert_exporter": "python",
   "pygments_lexer": "ipython3",
   "version": "3.6.6"
  }
 },
 "nbformat": 4,
 "nbformat_minor": 2
}
