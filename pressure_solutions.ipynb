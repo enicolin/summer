{
 "cells": [
  {
   "cell_type": "code",
   "execution_count": 1,
   "metadata": {
    "collapsed": true
   },
   "outputs": [],
   "source": [
    "%config InlineBackend.figure_format = 'svg'\n",
    "import ipywidgets as widgets\n",
    "from IPython.display import display \n",
    "import matplotlib.pyplot as plt\n",
    "from scipy.special import erf\n",
    "from mpmath import e1 as W\n",
    "import numpy as np\n",
    "import eq_functions as eq\n",
    "import pandas as pd\n",
    "\n",
    "# dimensionless pressure 1D, 2D, 3D\n",
    "p1 = lambda r, t: 4*(np.pi*t)**0.5*np.exp(-r**2/t) - 4*np.pi*r*(1-erf(r/t**.5))\n",
    "p2 = lambda r, t: float(W(r**2/t))\n",
    "p3 = lambda r, t: 1/r * (1 - erf(r/t**0.5))\n",
    "\n",
    "# dimensionless pressure after injection being cut at characteristic time \n",
    "p1T = lambda r, t: p1(r,t)-p1(r,t-1)\n",
    "p2T = lambda r, t: p2(r,t) - p2(r,t-1)\n",
    "p3T = lambda r, t: p3(r,t) - p3(r,t-1)\n",
    "\n",
    "# backfront\n",
    "rbf1 = lambda t: (0.5*t*(t-1) * np.log(t/(t-1)))**0.5\n",
    "rbf2 = lambda t: (t*(t-1) * np.log(t/(t-1)))**0.5\n",
    "rbf3 = lambda t: (1.5*t*(t-1) * np.log(t/(t-1)))**0.5\n",
    "\n",
    "# maximum pressure p(r) from backfront\n",
    "pmax1 = lambda r: 4*(np.pi)**0.5*((1+2*r**2)**0.5*np.exp(-r**2/(1+2*r**2)) - 2**0.5*r*np.exp(-0.5) - np.pi**0.5*r*(-erf(r/(1+2*r**2)**0.5)+(erf(1/2**0.5))))\n",
    "pmax2 = lambda r: [float(W(1/(1+1/ri**2))) - float(W(1)) for ri in r]\n",
    "pmax3 = lambda r: 1/r*(-erf(r/(1+2*r**2/3)**0.5) + (erf(1.5**0.5)))"
   ]
  },
  {
   "cell_type": "code",
   "execution_count": 7,
   "metadata": {},
   "outputs": [
    {
     "data": {
      "application/vnd.jupyter.widget-view+json": {
       "model_id": "96858e5e870e49d3a659509eb26b1d12"
      }
     },
     "metadata": {},
     "output_type": "display_data"
    }
   ],
   "source": [
    "# COSNTANT RADIAL PRESSURE DIFFUSION\n",
    "def plot_pr(t):\n",
    "    r1 = np.linspace(0,10,500)\n",
    "    p1d = p1(r1,t)\n",
    "    \n",
    "    r2 = np.linspace(0.001,10,500)\n",
    "    p2d = np.array([p2(ri,t) for ri in r2])\n",
    "    \n",
    "    r3 = np.linspace(0.001,10,500)\n",
    "    p3d = p3(r3,t)\n",
    "    \n",
    "    f, ax = plt.subplots(1, figsize = (6,4))\n",
    "    ax.plot(r1, p1d, label='1D')\n",
    "    ax.plot(r2, p2d, label='2D')\n",
    "    ax.plot(r3, p3d, label='3D')\n",
    "    plt.xlim([0,8])\n",
    "    plt.ylim([0,20])\n",
    "    ax.set_title('pressure diffusion in 1D,2D,3D')\n",
    "    ax.set_xlabel('r')\n",
    "    ax.set_ylabel('p')\n",
    "    plt.legend()\n",
    "    plt.show()\n",
    "\n",
    "time = widgets.FloatSlider(value = 0.001, min = 0.001, max = 50, step = 0.1)\n",
    "\n",
    "plot_pr = widgets.interactive(plot_pr, t = time)\n",
    "\n",
    "display(plot_pr)\n"
   ]
  },
  {
   "cell_type": "code",
   "execution_count": 8,
   "metadata": {},
   "outputs": [
    {
     "data": {
      "application/vnd.jupyter.widget-view+json": {
       "model_id": "090ed0ef022b404291dfa931fc09239a"
      }
     },
     "metadata": {},
     "output_type": "display_data"
    }
   ],
   "source": [
    "# RADIAL PRESSURE DIFFUSION AFTER INJECTION FOR TIME T\n",
    "def plot_pr_injT(t):\n",
    "    r1 = np.linspace(0,10,500)\n",
    "    p1 = p1T(r1,t)\n",
    "    \n",
    "    r2 = np.linspace(0,10,500)\n",
    "    p2 = np.array([p2T(ri,t) for ri in r2])\n",
    "    \n",
    "    r3 = np.linspace(0.001,10,500)\n",
    "    p3 = p3T(r3,t)\n",
    "    \n",
    "    f, ax = plt.subplots(1, figsize = (6,4))\n",
    "    ax.plot(r1, p1, label='1D')\n",
    "    ax.plot(r2, p2, label='2D')\n",
    "    ax.plot(r3, p3, label='3D')\n",
    "    plt.xlim([0,8])\n",
    "    plt.ylim([0,20])\n",
    "    ax.set_title('pressure diffusion in 1D,2D,3D after injection of time T')\n",
    "    ax.set_xlabel('r')\n",
    "    ax.set_ylabel('p')\n",
    "    plt.legend()\n",
    "    plt.show()\n",
    "\n",
    "time = widgets.FloatSlider(value = 1, min = 1.001, max = 10, step = 0.1)\n",
    "\n",
    "plot_pr = widgets.interactive(plot_pr_injT, t = time)\n",
    "\n",
    "display(plot_pr)"
   ]
  },
  {
   "cell_type": "code",
   "execution_count": 9,
   "metadata": {},
   "outputs": [
    {
     "data": {
      "application/vnd.jupyter.widget-view+json": {
       "model_id": "e9a0c09521784c77b74d898269474bc6"
      }
     },
     "metadata": {},
     "output_type": "display_data"
    }
   ],
   "source": [
    "# RADIAL PRESSURE DIFFUSION - INJECTION FOR TIME T FOLLOWED BY ABRUPT STOP\n",
    "def plot_injectioncut(t):\n",
    "    n = 1000\n",
    "    if t <= 1:\n",
    "        r1 = np.linspace(0,10,n)\n",
    "        p1d = p1(r1,t)\n",
    "\n",
    "        r2 = np.linspace(0.001,10,n)\n",
    "        p2d = np.array([p2(ri,t) for ri in r2])\n",
    "\n",
    "        r3 = np.linspace(0.001,10,n)\n",
    "        p3d = p3(r3,t)\n",
    "\n",
    "        f, ax = plt.subplots(1, figsize = (6,4))\n",
    "        ax.plot(r1, p1d, label='1D')\n",
    "        ax.plot(r2, p2d, label='2D')\n",
    "        ax.plot(r3, p3d, label='3D')\n",
    "\n",
    "    else:\n",
    "        r1 = np.linspace(0,10,n)\n",
    "        p1d = p1T(r1,t)\n",
    "\n",
    "        r2 = np.linspace(0,10,n)\n",
    "        p2d = np.array([p2T(ri,t) for ri in r2])\n",
    "\n",
    "        r3 = np.linspace(0.001,10,n)\n",
    "        p3d = p3T(r3,t)\n",
    "\n",
    "        f, ax = plt.subplots(1, figsize = (6,4))\n",
    "        ax.plot(r1, p1d, label='1D')\n",
    "        ax.plot(r2, p2d, label='2D')\n",
    "        ax.plot(r3, p3d, label='3D')\n",
    "        \n",
    "    plt.xlim([0,2])\n",
    "    plt.ylim([0,12])\n",
    "    ax.set_title('pressure diffusion (injection cut at time 1)')\n",
    "    ax.set_xlabel('r')\n",
    "    ax.set_ylabel('p')\n",
    "    plt.legend()\n",
    "    plt.show()\n",
    "\n",
    "time = widgets.FloatSlider(value = 1e-2, min = 1e-3, max = 5, step = 1e-2)\n",
    "\n",
    "plot_pr_inj = widgets.interactive(plot_injectioncut, t = time)\n",
    "\n",
    "display(plot_pr_inj)"
   ]
  },
  {
   "cell_type": "markdown",
   "metadata": {},
   "source": [
    "$ \\frac{\\partial p}{\\partial t} = 0 $ gives the backfront r-t trajectory, which can be used to determine maximum pressure at a given distance using the solutions for pressure"
   ]
  },
  {
   "cell_type": "code",
   "execution_count": 19,
   "metadata": {
    "scrolled": false
   },
   "outputs": [
    {
     "data": {
      "application/vnd.jupyter.widget-view+json": {
       "model_id": "26f77a709fb142e7b5f00757f177f880"
      }
     },
     "metadata": {},
     "output_type": "display_data"
    }
   ],
   "source": [
    "def plot_maxpressure(logalpha, T, logk, lognu, q):\n",
    "    n = 1000\n",
    "    r0 = 1e-3\n",
    "    r1 = 1000\n",
    "    r = np.linspace(r0,r1,n)\n",
    "    dml = True\n",
    "    pmax1d = eq.p1D(r, 10**logalpha, T, 10**logk, 10**lognu, q)\n",
    "    pmax2d = eq.p2D(r, 10**logalpha, T, 10**logk, 10**lognu, q)\n",
    "    pmax3d = eq.p3D(r, 10**logalpha, T, 10**logk, 10**lognu, q)\n",
    "    \n",
    "    pmax1d /= pmax1d[0]\n",
    "    pmax2d /= pmax2d[0]\n",
    "    pmax3d /= pmax3d[0]\n",
    "\n",
    "    f, ax = plt.subplots(1,figsize=(7,4))\n",
    "\n",
    "    ax.plot(r,pmax1d, label='1D')\n",
    "    ax.plot(r,pmax2d, label='2D')\n",
    "    ax.plot(r,pmax3d, label='3D')\n",
    "    ax.set_xscale('log')\n",
    "    ax.set_yscale('log')\n",
    "    ax.legend()\n",
    "    ax.set_xlabel('r')\n",
    "    ax.set_ylabel('pmax')\n",
    "    ax.set_title('backfront pressure')\n",
    "\n",
    "    plt.show()\n",
    "\n",
    "# parameter bounds\n",
    "lb = pd.Series({'alpha':-17, 'Time':7.8e6, 'k':-15, 'nu':-7, 'q':10})\n",
    "ub = pd.Series({'alpha':-2, 'Time':11e7, 'k':-7, 'nu':-6, 'q':1000})\n",
    "\n",
    "logalpha = widgets.FloatSlider(value = 2e-6, min = lb.alpha, max = ub.alpha, step = 1e-1, description = r'log $\\alpha$')\n",
    "T = widgets.FloatSlider(value = 10.7e9, min = lb.Time , max = ub.Time, step = 1e3, description = r'$T$')\n",
    "logk = widgets.FloatSlider(value = -8, min = lb.k, max = ub.k, step = 1e-1, description = r'log $k$')\n",
    "lognu = widgets.FloatSlider(value = -6, min = lb.nu, max = ub.nu, step = 1e-1, description = r'log $\\nu$')\n",
    "q = widgets.FloatSlider(value = 527, min = lb.q, max = ub.q, step = 1e1, description = r'$q$')\n",
    "\n",
    "maxp_widg = widgets.interactive(plot_maxpressure, logalpha = logalpha, T = T, logk = logk, lognu = lognu, q = q)\n",
    "\n",
    "display(maxp_widg)"
   ]
  }
 ],
 "metadata": {
  "kernelspec": {
   "display_name": "Python 3",
   "language": "python",
   "name": "python3"
  },
  "language_info": {
   "codemirror_mode": {
    "name": "ipython",
    "version": 3
   },
   "file_extension": ".py",
   "mimetype": "text/x-python",
   "name": "python",
   "nbconvert_exporter": "python",
   "pygments_lexer": "ipython3",
   "version": "3.6.6"
  }
 },
 "nbformat": 4,
 "nbformat_minor": 2
}
