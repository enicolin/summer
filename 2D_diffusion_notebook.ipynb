{
 "cells": [
  {
   "cell_type": "code",
   "execution_count": 1,
   "metadata": {
    "collapsed": true
   },
   "outputs": [],
   "source": [
    "%config InlineBackend.figure_format = 'svg'\n",
    "import ipywidgets as widgets\n",
    "from IPython.display import display\n",
    "import eq_functions as eq\n",
    "import numpy as np\n",
    "import pandas as pd\n",
    "import random\n",
    "import matplotlib.pyplot as plt\n",
    "from datetime import datetime\n",
    "from pyswarm import pso\n",
    "from scipy import optimize\n",
    "\n",
    "np.random.seed(1756)\n",
    "random.seed(1756)"
   ]
  },
  {
   "cell_type": "markdown",
   "metadata": {},
   "source": [
    "Read in data from text file. Store earthquakes as a list of 'Event' instances. The metrics dataframe contains location-specific data such as optimiser parameter bounds, latitude/longitude of injection well."
   ]
  },
  {
   "cell_type": "code",
   "execution_count": 7,
   "metadata": {},
   "outputs": [
    {
     "data": {
      "application/vnd.jupyter.widget-view+json": {
       "model_id": "190a34ebabb94b14be4e251dd66de91d"
      }
     },
     "metadata": {},
     "output_type": "display_data"
    },
    {
     "ename": "TypeError",
     "evalue": "expected str, bytes or os.PathLike object, not function",
     "output_type": "error",
     "traceback": [
      "\u001b[1;31m---------------------------------------------------------------------------\u001b[0m",
      "\u001b[1;31mTypeError\u001b[0m                                 Traceback (most recent call last)",
      "\u001b[1;32m<ipython-input-7-869ee9d090e0>\u001b[0m in \u001b[0;36m<module>\u001b[1;34m()\u001b[0m\n\u001b[0;32m     45\u001b[0m \u001b[0mfname\u001b[0m \u001b[1;33m=\u001b[0m \u001b[0mwidgets\u001b[0m\u001b[1;33m.\u001b[0m\u001b[0minteract\u001b[0m\u001b[1;33m(\u001b[0m\u001b[1;32mlambda\u001b[0m \u001b[0mx\u001b[0m\u001b[1;33m:\u001b[0m \u001b[0mx\u001b[0m\u001b[1;33m,\u001b[0m \u001b[0mx\u001b[0m\u001b[1;33m=\u001b[0m\u001b[0mloc_options\u001b[0m\u001b[1;33m)\u001b[0m\u001b[1;33m\u001b[0m\u001b[0m\n\u001b[0;32m     46\u001b[0m \u001b[1;33m\u001b[0m\u001b[0m\n\u001b[1;32m---> 47\u001b[1;33m \u001b[0mevents_all\u001b[0m \u001b[1;33m=\u001b[0m \u001b[0mextract_events\u001b[0m\u001b[1;33m(\u001b[0m\u001b[0mfname\u001b[0m\u001b[1;33m)\u001b[0m\u001b[1;33m\u001b[0m\u001b[0m\n\u001b[0m\u001b[0;32m     48\u001b[0m \u001b[0mtype\u001b[0m\u001b[1;33m(\u001b[0m\u001b[0mevents_all\u001b[0m\u001b[1;33m)\u001b[0m\u001b[1;33m\u001b[0m\u001b[0m\n",
      "\u001b[1;32m<ipython-input-7-869ee9d090e0>\u001b[0m in \u001b[0;36mextract_events\u001b[1;34m(fname)\u001b[0m\n\u001b[0;32m     26\u001b[0m     \u001b[0mextract\u001b[0m \u001b[0mdata\u001b[0m \u001b[1;32mfrom\u001b[0m \u001b[0mtext\u001b[0m \u001b[0mfile\u001b[0m \u001b[0mto\u001b[0m \u001b[0mstore\u001b[0m \u001b[0mevents\u001b[0m \u001b[1;32min\u001b[0m \u001b[0ma\u001b[0m \u001b[0mlist\u001b[0m\u001b[1;33m\u001b[0m\u001b[0m\n\u001b[0;32m     27\u001b[0m     '''\n\u001b[1;32m---> 28\u001b[1;33m     \u001b[0mf\u001b[0m \u001b[1;33m=\u001b[0m \u001b[0mopen\u001b[0m\u001b[1;33m(\u001b[0m\u001b[0mfname\u001b[0m\u001b[1;33m,\u001b[0m \u001b[1;34m'r'\u001b[0m\u001b[1;33m)\u001b[0m\u001b[1;33m\u001b[0m\u001b[0m\n\u001b[0m\u001b[0;32m     29\u001b[0m     \u001b[0mflines\u001b[0m \u001b[1;33m=\u001b[0m \u001b[0mf\u001b[0m\u001b[1;33m.\u001b[0m\u001b[0mreadlines\u001b[0m\u001b[1;33m(\u001b[0m\u001b[1;33m)\u001b[0m\u001b[1;33m\u001b[0m\u001b[0m\n\u001b[0;32m     30\u001b[0m     \u001b[0mf\u001b[0m\u001b[1;33m.\u001b[0m\u001b[0mclose\u001b[0m\u001b[1;33m(\u001b[0m\u001b[1;33m)\u001b[0m\u001b[1;33m\u001b[0m\u001b[0m\n",
      "\u001b[1;31mTypeError\u001b[0m: expected str, bytes or os.PathLike object, not function"
     ]
    }
   ],
   "source": [
    "# set up dataframe for dataset/location specific metrics\n",
    "rr = [42.088309, -113.387377] # 42.087593, -113.387119 ; 42.087905, -113.390624\n",
    "nwb = [43.726077, -121.309651] #  43.726066, -121.310861 ; 43.726208, -121.309869 ; 43.726179, -121.309841 ; 43.726077, -121.309651\n",
    "brd = [39.791999, -119.013119]\n",
    "rrt0 = datetime(2010, 10, 2 , hour=8, minute=13, second=26) # first event times\n",
    "nwbt0 = datetime(2012, 10, 29, hour=8, minute=2, second=21)\n",
    "brdt0 = datetime(2010, 11, 13 , hour=8, minute=37, second=24)\n",
    "metrics = pd.DataFrame({'lat0':[nwb[0], rr[0], brd[0]],\n",
    "                        'long0':[nwb[1], rr[1], brd[1]],\n",
    "                        't0':[nwbt0, rrt0, brdt0],\n",
    "                        'ru':[10**2.63, 10**3.2, 1*1e3],\n",
    "                        'rl':[3*1e1, 150, 1e1],\n",
    "                        'T_inj':[1.901e+6, 3.416e+7, 1.642e+6],\n",
    "                        'T_adjust':[432000, 0, 0],\n",
    "                        'range':[slice(150,402),slice(82,168), slice(0,-1)],\n",
    "                        'q_lwr':[10,28,10],\n",
    "                        'q_upr':[1000,3469.95,1000],\n",
    "                        'rc_lwr':[40,320,50],\n",
    "                        'rc_upr':[100,450,300]},\n",
    "    index =  ['newberry.txt','raft_river.txt','bradys.txt'])\n",
    "\n",
    "\n",
    "def extract_events(fname):\n",
    "# fname = 'newberry.txt'\n",
    "    '''\n",
    "    extract data from text file to store events in a list\n",
    "    '''\n",
    "    f = open(fname, 'r')\n",
    "    flines = f.readlines()\n",
    "    f.close()\n",
    "\n",
    "    r = 6371e3 # earth radius in m\n",
    "    lat0, long0, t0 =  metrics.loc[fname].lat0, metrics.loc[fname].long0, metrics.loc[fname].t0 #43.725820, -121.310371 OG # newberry # 42.088047, -113.385184# raft river #  \n",
    "    x0 = eq.gnom_x(lat0,long0,lat0,long0)\n",
    "    y0 = eq.gnom_y(lat0,long0,lat0,long0)\n",
    "\n",
    "    # store events in list\n",
    "    # latitudes and longitudes are projected to a plane using a gnomonic projection\n",
    "    # distances between points and the origin (mean lat,lon) are determined by great circle distances between origin and the points\n",
    "    events_all = [eq.Event(float(event.split()[10]), \\\n",
    "                           (datetime(int(event.split()[0]),int(event.split()[2]),int(event.split()[3]),hour=int(event.split()[4]),minute=int(event.split()[5]),second=int(float(event.split()[6])))-t0).total_seconds(), \\\n",
    "                           r*eq.gnom_x(float(event.split()[7]),float(event.split()[8]),lat0,long0, deg = True),\\\n",
    "                           r*eq.gnom_y(float(event.split()[7]),float(event.split()[8]),lat0,long0, deg = True),\\\n",
    "                           '-', eq.gcdist(r,float(event.split()[7]),lat0,float(event.split()[8]),long0, deg = True), 0) for event in flines]# if event.split()[0] in year]\n",
    "    return events_all\n",
    "    \n",
    "loc_options = widgets.Select(options = ['newberry.txt','raft_river.txt','bradys.txt'], value = 'newberry.txt', description='Location')\n",
    "\n",
    "fname = widgets.interact(lambda x: x, x=loc_options)\n",
    "\n",
    "events_all = extract_events(fname)\n",
    "type(events_all)"
   ]
  },
  {
   "cell_type": "code",
   "execution_count": 3,
   "metadata": {},
   "outputs": [
    {
     "ename": "TypeError",
     "evalue": "'interactive' object is not iterable",
     "output_type": "error",
     "traceback": [
      "\u001b[1;31m---------------------------------------------------------------------------\u001b[0m",
      "\u001b[1;31mTypeError\u001b[0m                                 Traceback (most recent call last)",
      "\u001b[1;32m<ipython-input-3-1ee8a6025f92>\u001b[0m in \u001b[0;36m<module>\u001b[1;34m()\u001b[0m\n\u001b[0;32m      1\u001b[0m \u001b[1;31m# put events into a catalog\u001b[0m\u001b[1;33m\u001b[0m\u001b[1;33m\u001b[0m\u001b[0m\n\u001b[1;32m----> 2\u001b[1;33m catalog0 = pd.DataFrame({'Magnitude': [event.magnitude for event in events_all],\n\u001b[0m\u001b[0;32m      3\u001b[0m                                    \u001b[1;34m'Time'\u001b[0m\u001b[1;33m:\u001b[0m\u001b[1;33m[\u001b[0m\u001b[0mevent\u001b[0m\u001b[1;33m.\u001b[0m\u001b[0mtime\u001b[0m \u001b[1;32mfor\u001b[0m \u001b[0mevent\u001b[0m \u001b[1;32min\u001b[0m \u001b[0mevents_all\u001b[0m\u001b[1;33m]\u001b[0m\u001b[1;33m,\u001b[0m\u001b[1;33m\u001b[0m\u001b[0m\n\u001b[0;32m      4\u001b[0m                                    \u001b[1;34m'x'\u001b[0m\u001b[1;33m:\u001b[0m\u001b[1;33m[\u001b[0m\u001b[0mevent\u001b[0m\u001b[1;33m.\u001b[0m\u001b[0mx\u001b[0m \u001b[1;32mfor\u001b[0m \u001b[0mevent\u001b[0m \u001b[1;32min\u001b[0m \u001b[0mevents_all\u001b[0m\u001b[1;33m]\u001b[0m\u001b[1;33m,\u001b[0m\u001b[1;33m\u001b[0m\u001b[0m\n\u001b[0;32m      5\u001b[0m                                    \u001b[1;34m'y'\u001b[0m\u001b[1;33m:\u001b[0m\u001b[1;33m[\u001b[0m\u001b[0mevent\u001b[0m\u001b[1;33m.\u001b[0m\u001b[0my\u001b[0m \u001b[1;32mfor\u001b[0m \u001b[0mevent\u001b[0m \u001b[1;32min\u001b[0m \u001b[0mevents_all\u001b[0m\u001b[1;33m]\u001b[0m\u001b[1;33m,\u001b[0m\u001b[1;33m\u001b[0m\u001b[0m\n",
      "\u001b[1;31mTypeError\u001b[0m: 'interactive' object is not iterable"
     ]
    }
   ],
   "source": [
    "# put events into a catalog\n",
    "catalog0 = pd.DataFrame({'Magnitude': [event.magnitude for event in events_all],\n",
    "                                   'Time':[event.time for event in events_all],\n",
    "                                   'x':[event.x for event in events_all],\n",
    "                                   'y':[event.y for event in events_all],\n",
    "                                   'Generation':[0] * len(events_all),\n",
    "                                   'Distance_from_origin': [event.distance_from_origin for event in events_all],\n",
    "                                   'Date':[datetime(int(event.split()[0]),int(event.split()[2]),int(event.split()[3]),hour=int(event.split()[4]),minute=int(event.split()[5]),second=int(float(event.split()[6]))) for event in flines]})\n",
    "cols = ['Magnitude','Generation','x','y','Time','Distance_from_origin','Date']\n",
    "catalog0 = catalog0.reindex(columns = cols)\n",
    "catalog0 = catalog0[metrics.loc[fname].range] # get events from time period of interest\n",
    "catalog0.Time = catalog0.Time - catalog0.Time.min() + metrics.loc[fname].T_adjust # shift time so that first event occurs however long after injection began "
   ]
  }
 ],
 "metadata": {
  "kernelspec": {
   "display_name": "Python 3",
   "language": "python",
   "name": "python3"
  },
  "language_info": {
   "codemirror_mode": {
    "name": "ipython",
    "version": 3
   },
   "file_extension": ".py",
   "mimetype": "text/x-python",
   "name": "python",
   "nbconvert_exporter": "python",
   "pygments_lexer": "ipython3",
   "version": "3.6.6"
  }
 },
 "nbformat": 4,
 "nbformat_minor": 2
}
