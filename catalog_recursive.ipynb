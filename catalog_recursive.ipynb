{
 "cells": [
  {
   "cell_type": "code",
   "execution_count": 1,
   "metadata": {},
   "outputs": [],
   "source": [
    "import numpy as np\n",
    "import random as rnd\n",
    "import eq_functions as eq\n",
    "import pandas as pd\n",
    "\n",
    "np.random.seed(1756)\n",
    "rnd.seed(1756)"
   ]
  },
  {
   "cell_type": "code",
   "execution_count": 2,
   "metadata": {
    "collapsed": true
   },
   "outputs": [],
   "source": [
    "# define parameters\n",
    "#Nt = 1000\n",
    "Tf = 100 # unit time\n",
    "b = 1.\n",
    "c = 1.\n",
    "cprime = 1.\n",
    "p = 1.1\n",
    "pprime = 1.8\n",
    "Mc = 3\n",
    "smin = 0.6 # minimum seismicity allowable on an interval so that it doesn't get too small\n",
    "M0 = 6. # magnitude of initial earthquake\n",
    "A = 1. # parameter included in law for generating expected aftershocks given main shock magnitude M0\n",
    "alpha = 1.8 # parameter included in law for generating expected aftershocks given main shock magnitude M0\n",
    "\n",
    "prms = pd.Series([Tf,M0,A,alpha,b,c,cprime,p,pprime,Mc,smin],\n",
    "                 index = ['Tf','M0','A','alpha','b','c','cprime','p','pprime','Mc','smin'])"
   ]
  },
  {
   "cell_type": "code",
   "execution_count": 3,
   "metadata": {},
   "outputs": [
    {
     "data": {
      "application/vnd.jupyter.widget-view+json": {
       "model_id": "b1f886f524b54114a6cde23e887ec604"
      }
     },
     "metadata": {},
     "output_type": "display_data"
    }
   ],
   "source": [
    "import ipywidgets as widgets\n",
    "from IPython.display import display\n",
    "\n",
    "\n",
    "# generate catalog\n",
    "catalog_list = []\n",
    "t0 = 0\n",
    "gen = 0 # generation\n",
    "eq.generate_catalog(prms, t0, catalog_list, gen, recursion = True)\n",
    "\n",
    "def plot_catalogs(coption):\n",
    "    eq.plot_catalog(catalog_list, M0, color = coption)\n",
    "\n",
    "\n",
    "color_map = widgets.RadioButtons(options = ['Time', 'Generation'],\n",
    "                                 description = 'Plot event colour by:', disabled = False)\n",
    "\n",
    "x = widgets.interactive(plot_catalogs,\n",
    "                        coption = color_map)\n",
    "display(x)\n",
    "\n"
   ]
  }
 ],
 "metadata": {
  "kernelspec": {
   "display_name": "Python 3",
   "language": "python",
   "name": "python3"
  },
  "language_info": {
   "codemirror_mode": {
    "name": "ipython",
    "version": 3
   },
   "file_extension": ".py",
   "mimetype": "text/x-python",
   "name": "python",
   "nbconvert_exporter": "python",
   "pygments_lexer": "ipython3",
   "version": "3.6.6"
  }
 },
 "nbformat": 4,
 "nbformat_minor": 2
}
