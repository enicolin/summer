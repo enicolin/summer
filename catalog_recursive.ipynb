{
 "cells": [
  {
   "cell_type": "code",
   "execution_count": 1,
   "metadata": {},
   "outputs": [],
   "source": [
    "%config InlineBackend.figure_format = 'svg'\n",
    "%matplotlib inline\n",
    "import numpy as np\n",
    "import random as rnd\n",
    "import eq_functions as eq\n",
    "import pandas as pd\n",
    "import ipywidgets as widgets\n",
    "from IPython.display import display\n",
    "\n",
    "np.random.seed(1756)\n",
    "rnd.seed(1756)"
   ]
  },
  {
   "cell_type": "code",
   "execution_count": 2,
   "metadata": {
    "collapsed": true
   },
   "outputs": [],
   "source": [
    "# define parameters\n",
    "#Nt = 1000\n",
    "Tf = 100 # forecast period\n",
    "b = 1.\n",
    "c = 1.\n",
    "cprime = 1.\n",
    "p = 1.1\n",
    "pprime = 1.8\n",
    "Mc = 2.\n",
    "smin = 0.5 # minimum seismicity allowable on an interval so that it doesn't get too small\n",
    "M0 = 6.1 # magnitude of initial earthquake\n",
    "A = 1.1 # parameter included in law for generating expected aftershocks given main shock magnitude M0\n",
    "alpha = 1.4 # parameter included in law for generating expected aftershocks given main shock magnitude M0\n",
    "\n",
    "t0 = 0 # time of main shock\n",
    "r0 = np.array([0,0]) # x,y coord. of main shock\n",
    "gen = 0 # initial generation"
   ]
  },
  {
   "cell_type": "code",
   "execution_count": 3,
   "metadata": {},
   "outputs": [],
   "source": [
    "# # generate catalog and save\n",
    "# catalog_list = []\n",
    "# eq.generate_catalog(t0, r0, catalog_list, gen,\n",
    "#                     Tf,M0,A,alpha,b,c,cprime,p,pprime,Mc,smin, recursion = True)\n",
    "\n",
    "# catalogs = pd.concat(catalog_list)\n",
    "# catalogs.to_pickle('catalogs.pkl')"
   ]
  },
  {
   "cell_type": "code",
   "execution_count": 4,
   "metadata": {},
   "outputs": [
    {
     "name": "stderr",
     "output_type": "stream",
     "text": [
      "Widget Javascript not detected.  It may not be installed or enabled properly.\n"
     ]
    },
    {
     "data": {
      "application/vnd.jupyter.widget-view+json": {
       "model_id": "d03f2353101d459cbca7fe45949fad26"
      }
     },
     "metadata": {},
     "output_type": "display_data"
    }
   ],
   "source": [
    "# read in catalog and plot\n",
    "catalogs_raw = pd.read_pickle('catalogs.pkl') # read in .pkl file storing dataframe generated above\n",
    "\n",
    "def plot_catalogs(coption):\n",
    "    eq.plot_catalog(catalogs_raw, M0, r0, color = coption, savepath = None, saveplot = False)\n",
    "\n",
    "\n",
    "color_map = widgets.Select(options = ['Time', 'Generation','Density'],\n",
    "                                 description = 'Plot event colour by:', disabled = False)\n",
    "\n",
    "x = widgets.interactive(plot_catalogs,\n",
    "                        coption = color_map)\n",
    "\n",
    "display(x)"
   ]
  }
 ],
 "metadata": {
  "kernelspec": {
   "display_name": "Python 3",
   "language": "python",
   "name": "python3"
  },
  "language_info": {
   "codemirror_mode": {
    "name": "ipython",
    "version": 3
   },
   "file_extension": ".py",
   "mimetype": "text/x-python",
   "name": "python",
   "nbconvert_exporter": "python",
   "pygments_lexer": "ipython3",
   "version": "3.6.6"
  }
 },
 "nbformat": 4,
 "nbformat_minor": 2
}
