{
 "cells": [
  {
   "cell_type": "code",
   "execution_count": 7,
   "metadata": {
    "collapsed": true
   },
   "outputs": [],
   "source": [
    "import numpy as np\n",
    "import random as rnd\n",
    "import eq_functions as eq\n",
    "import pandas as pd\n",
    "\n",
    "np.random.seed(1756)\n",
    "rnd.seed(1756)"
   ]
  },
  {
   "cell_type": "code",
   "execution_count": 8,
   "metadata": {
    "collapsed": true
   },
   "outputs": [],
   "source": [
    "# define parameters\n",
    "#Nt = 1000\n",
    "Tf = 32 # unit time\n",
    "b = 1.\n",
    "c = 1.\n",
    "cprime = 1.\n",
    "p = 1.1\n",
    "pprime = 1.8\n",
    "Mc = 3.\n",
    "smin = 0.8 # minimum seismicity allowable on an interval so that it doesn't get too small\n",
    "M0 = 4.3 # magnitude of initial earthquake\n",
    "A = 2 # parameter included in law for generating expected aftershocks given main shock magnitude M0\n",
    "alpha = 3 # parameter included in law for generating expected aftershocks given main shock magnitude M0\n",
    "\n",
    "prms = pd.Series([Tf,M0,A,alpha,b,c,cprime,p,pprime,Mc,smin],\n",
    "                 index = ['Tf','M0','A','alpha','b','c','cprime','p','pprime','Mc','smin'])\n"
   ]
  },
  {
   "cell_type": "code",
   "execution_count": 9,
   "metadata": {},
   "outputs": [
    {
     "data": {
      "application/vnd.jupyter.widget-view+json": {
       "model_id": "6ae6df847d83418dac275cb5540fc56f"
      }
     },
     "metadata": {},
     "output_type": "display_data"
    }
   ],
   "source": [
    "import ipywidgets as widgets\n",
    "from IPython.display import display\n",
    "\n",
    "\n",
    "# generate catalog\n",
    "catalog_list = []\n",
    "t0 = 0\n",
    "gen = 0 # generation\n",
    "eq.generate_catalog(prms, t0, catalog_list, gen, recursion = True)\n",
    "\n",
    "def plot_catalogs(coption):\n",
    "    eq.plot_catalog(catalog_list, M0, color = coption)\n",
    "\n",
    "\n",
    "color_map = widgets.RadioButtons(options = ['Time', 'Generation'],\n",
    "                                 description = 'Plot event colour by:', disabled = False)\n",
    "\n",
    "x = widgets.interactive(plot_catalogs,\n",
    "                        coption = color_map)\n",
    "display(x)"
   ]
  }
 ],
 "metadata": {
  "kernelspec": {
   "display_name": "Python 3",
   "language": "python",
   "name": "python3"
  },
  "language_info": {
   "codemirror_mode": {
    "name": "ipython",
    "version": 3
   },
   "file_extension": ".py",
   "mimetype": "text/x-python",
   "name": "python",
   "nbconvert_exporter": "python",
   "pygments_lexer": "ipython3",
   "version": "3.6.6"
  }
 },
 "nbformat": 4,
 "nbformat_minor": 2
}
