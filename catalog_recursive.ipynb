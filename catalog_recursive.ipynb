{
 "cells": [
  {
   "cell_type": "code",
   "execution_count": 4,
   "metadata": {
    "collapsed": true
   },
   "outputs": [],
   "source": [
    "%config InlineBackend.figure_format = 'svg'\n",
    "import numpy as np\n",
    "import random as rnd\n",
    "import eq_functions as eq\n",
    "import pandas as pd\n",
    "\n",
    "np.random.seed(1756)\n",
    "rnd.seed(1756)"
   ]
  },
  {
   "cell_type": "code",
   "execution_count": 5,
   "metadata": {
    "collapsed": true
   },
   "outputs": [],
   "source": [
    "# define parameters\n",
    "Tf = 100 # forecast period\n",
    "b = 1.\n",
    "c = 1.\n",
    "cprime = 1.\n",
    "p = 1.1\n",
    "pprime = 1.8\n",
    "Mc = 2.\n",
    "smin = 0.6 # minimum seismicity allowable on an interval so that it doesn't get too small\n",
    "M0 = 7. # magnitude of initial earthquake\n",
    "A = 1. # parameter included in law for generating expected aftershocks given main shock magnitude M0\n",
    "alpha = 1.3 # parameter included in law for generating expected aftershocks given main shock magnitude M0"
   ]
  },
  {
   "cell_type": "code",
   "execution_count": 7,
   "metadata": {},
   "outputs": [
    {
     "data": {
      "application/vnd.jupyter.widget-view+json": {
       "model_id": "d6634d19380a4d78adac706eeaacc91d"
      }
     },
     "metadata": {},
     "output_type": "display_data"
    }
   ],
   "source": [
    "import ipywidgets as widgets\n",
    "from IPython.display import display\n",
    "\n",
    "\n",
    "# generate catalog\n",
    "catalog_list = []\n",
    "t0 = 0 # time of main shock\n",
    "r0 = np.array([0,0]) # x,y coord. of main shock\n",
    "gen = 0 # initial generation\n",
    "eq.generate_catalog(t0, r0, catalog_list, gen, True,\n",
    "                    Tf,M0,A,alpha,b,c,cprime,p,pprime,Mc,smin)\n",
    "\n",
    "def plot_catalogs(coption):\n",
    "    eq.plot_catalog(catalog_list, M0, r0, color = coption)\n",
    "\n",
    "\n",
    "color_map = widgets.RadioButtons(options = ['Time', 'Generation'],\n",
    "                                 description = 'Plot event colour by:', disabled = False)\n",
    "\n",
    "x = widgets.interactive(plot_catalogs,\n",
    "                        coption = color_map)\n",
    "\n",
    "display(x)\n",
    "\n"
   ]
  }
 ],
 "metadata": {
  "kernelspec": {
   "display_name": "Python 3",
   "language": "python",
   "name": "python3"
  },
  "language_info": {
   "codemirror_mode": {
    "name": "ipython",
    "version": 3
   },
   "file_extension": ".py",
   "mimetype": "text/x-python",
   "name": "python",
   "nbconvert_exporter": "python",
   "pygments_lexer": "ipython3",
   "version": "3.6.6"
  }
 },
 "nbformat": 4,
 "nbformat_minor": 2
}
