{
 "cells": [
  {
   "cell_type": "code",
   "execution_count": null,
   "metadata": {},
   "outputs": [],
   "source": [
    "%matplolib inline"
   ]
  },
  {
   "cell_type": "code",
   "execution_count": 6,
   "metadata": {},
   "outputs": [
    {
     "data": {
      "image/png": "[encoded data removed]",
      "text/plain": [
       "<Figure size 432x288 with 1 Axes>"
      ]
     },
     "metadata": {},
     "output_type": "display_data"
    },
    {
     "name": "stderr",
     "output_type": "stream",
     "text": [
      "C:\\Users\\ddem014\\AppData\\Local\\Continuum\\anaconda3\\lib\\site-packages\\matplotlib\\axes\\_axes.py:6462: UserWarning: The 'normed' kwarg is deprecated, and has been replaced by the 'density' kwarg.\n",
      "  warnings.warn(\"The 'normed' kwarg is deprecated, and has been \"\n"
     ]
    },
    {
     "data": {
      "image/png": "[encoded data removed]",
      "text/plain": [
       "<Figure size 432x288 with 1 Axes>"
      ]
     },
     "metadata": {},
     "output_type": "display_data"
    }
   ],
   "source": [
    "# -*- coding: utf-8 -*-\n",
    "\"\"\"\n",
    "Created on Mon Nov 19 09:21:42 2018\n",
    "\n",
    "@author: enic156\n",
    "\"\"\"\n",
    "\n",
    "import eq_functions as eq\n",
    "import random as rnd\n",
    "import numpy as np\n",
    "from matplotlib import pyplot as plt\n",
    "import seaborn as sns\n",
    "\n",
    "rnd.seed(a=1756)\n",
    "np.random.seed(1756)\n",
    "\n",
    "# Script to generate a sample of 100 earthquake magnitues using GR law, and\n",
    "# determine the largest magnitude of these 100 eventsm Mmax. Repeat many times to \n",
    "# estimate probability density function of Mmax.\n",
    "\n",
    "# define parameters\n",
    "Nt = 100 # total earthquakes to randomly sample at each iteration\n",
    "a = np.log10(Nt)\n",
    "b = 0.97\n",
    "Mc = 2.2\n",
    "\n",
    "n = int(1e4) # number of times to repeat the process\n",
    "\n",
    "Mmax = np.empty(n) # initialise array containing largest magnitude event at each iteration\n",
    "for i in range(n):\n",
    "    events = eq.sample_magnitudes(Nt, Mc, b) # sample Nt magnitudes based off the distribution according to GR\n",
    "    \n",
    "#    # see what kind of distribution quakes are sampled from..\n",
    "#    plt.figure(1)\n",
    "#    plt.hist(events, color=\"darkblue\", edgecolor = \"black\", bins = 100)\n",
    "#    plt.show()\n",
    "    \n",
    "    Mmax[i] = events.max()\n",
    "\n",
    "\n",
    "plt.figure(1)\n",
    "plt.hist(Mmax, color=\"red\", edgecolor = \"black\", bins = 100)\n",
    "plt.title('Distribution of {} for {} events'.format(\"$M_{max}$\", Nt))\n",
    "plt.xlabel('$M_{max}$')\n",
    "plt.ylabel('Occurences')\n",
    "plt.show()\n",
    "\n",
    "plt.figure(2)\n",
    "sns.distplot(Mmax, hist=True, kde=True, bins = 100, color = \"black\")\n",
    "plt.title('kernel density estimation (mostly for visualisation right now)')\n",
    "plt.xlabel('$M_{max}$')\n",
    "plt.show()"
   ]
  },
  {
   "cell_type": "code",
   "execution_count": 20,
   "metadata": {},
   "outputs": [
    {
     "data": {
      "application/vnd.jupyter.widget-view+json": {
       "model_id": "f4b4e050799e4442aa01188d75c51680",
       "version_major": 2,
       "version_minor": 0
      },
      "text/plain": [
       "interactive(children=(FloatSlider(value=3.0, description='a', max=5.0, min=2.0, step=0.2), FloatSlider(value=1…"
      ]
     },
     "metadata": {},
     "output_type": "display_data"
    },
    {
     "data": {
      "text/plain": [
       "<function __main__.plot_mfd>"
      ]
     },
     "execution_count": 20,
     "metadata": {},
     "output_type": "execute_result"
    }
   ],
   "source": [
    "from ipywidgets import interact\n",
    "\n",
    "\n",
    "def plot_mfd(a,b,Mc):\n",
    "    Nt = int(10**a)\n",
    "    events = eq.sample_magnitudes(Nt, Mc, b) # sample Nt magnitudes based off the distribution according to GR\n",
    "\n",
    "    f,ax = plt.subplots(1,1,figsize=(12,8))\n",
    "    # plot histogram of events\n",
    "    ax.hist(events, color=\"red\", edgecolor = \"black\", bins = 30)\n",
    "    # plot cumulative magnitude frequency dist as black line\n",
    "    Nbins = 40\n",
    "    bin_edges=np.linspace(np.min(events), np.max(events), Nbins+1)\n",
    "    bin_centers=0.5*(bin_edges[1:]+bin_edges[:-1])\n",
    "    h, e =np.histogram(events, bins=bin_edges)\n",
    "    bin_centers,yt=np.array([[m,h] for m, h in zip(bin_centers,h) if h>=1]).T\n",
    "    N=np.flipud(np.cumsum(np.flipud(yt)))\n",
    "    ax.plot(bin_centers, N, 'k-')\n",
    "    \n",
    "    ax.set_title('earthquake frequence distribution')\n",
    "    ax.set_xlabel('$M$')\n",
    "    ax.set_ylabel('frequency')\n",
    "    ax.set_yscale('log')\n",
    "    ax.set_ylim([0.5,2.e5])\n",
    "    ax.set_xlim([1.8,8])\n",
    "    plt.show()\n",
    "    \n",
    "interact(plot_mfd, a = (2,5,0.2), b = (0.8,1.4,0.1), Mc = (2,4,0.5))"
   ]
  }
 ],
 "metadata": {
  "kernelspec": {
   "display_name": "Python 3",
   "language": "python",
   "name": "python3"
  },
  "language_info": {
   "codemirror_mode": {
    "name": "ipython",
    "version": 3
   },
   "file_extension": ".py",
   "mimetype": "text/x-python",
   "name": "python",
   "nbconvert_exporter": "python",
   "pygments_lexer": "ipython3",
   "version": "3.6.4"
  }
 },
 "nbformat": 4,
 "nbformat_minor": 2
}
