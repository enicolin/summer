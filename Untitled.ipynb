{
 "cells": [
  {
   "cell_type": "code",
   "execution_count": 1,
   "metadata": {
    "collapsed": true
   },
   "outputs": [],
   "source": [
    "import numpy as np\n",
    "import pandas as pd\n",
    "import eq_functions as eq"
   ]
  },
  {
   "cell_type": "code",
   "execution_count": 2,
   "metadata": {},
   "outputs": [],
   "source": [
    "events = eq.generate_events(0.6, 0, 0.05, np.array([0,0]), 6, 2, 1, 1, 1.8, 0, True)\n",
    "assert len(events) > 0"
   ]
  },
  {
   "cell_type": "code",
   "execution_count": 6,
   "metadata": {},
   "outputs": [
    {
     "name": "stdout",
     "output_type": "stream",
     "text": [
      "1000 loops, best of 3: 399 µs per loop\n"
     ]
    }
   ],
   "source": [
    "%%timeit\n",
    "X = len(events)\n",
    "Xcol = [''] * X # only include number of events on first row\n",
    "Xcol[0] = X\n",
    "n_avgcol = [''] * X\n",
    "n_avgcol[0] = 0.6 # only include average number of events on first row\n",
    "interval = ['Interval: [{:.3f},{:.3f}]'.format(0,0.05)] * X \n",
    "catalog_update = pd.DataFrame({'Magnitude': [event.magnitude for event in events],\n",
    "                       'Events':Xcol,\n",
    "                       'n_avg':n_avgcol,\n",
    "                       'Time':[event.time for event in events],\n",
    "                       'x':[event.x for event in events],\n",
    "                       'y':[event.y for event in events],\n",
    "                       'Generation':[event.generation for event in events]}, index = interval)"
   ]
  },
  {
   "cell_type": "code",
   "execution_count": 7,
   "metadata": {},
   "outputs": [
    {
     "name": "stdout",
     "output_type": "stream",
     "text": [
      "1000 loops, best of 3: 396 µs per loop\n"
     ]
    }
   ],
   "source": [
    "%%timeit\n",
    "X = len(events)\n",
    "Xcol = [''] * X # only include number of events on first row\n",
    "Xcol[0] = X\n",
    "n_avgcol = [''] * X\n",
    "n_avgcol[0] = 0.6 # only include average number of events on first row\n",
    "interval = ['Interval: [{:.3f},{:.3f}]'.format(0,0.05)] * X \n",
    "\n",
    "times = []\n",
    "for event in events:\n",
    "    times.append(event.time)\n",
    "\n",
    "x = []\n",
    "for event in events:\n",
    "    x.append(event.x)\n",
    "    \n",
    "y = []\n",
    "for event in events:\n",
    "    y.append(event.y)\n",
    "    \n",
    "gener = []\n",
    "for event in events:\n",
    "    gener.append(event.generation)\n",
    "    \n",
    "catalog_update = pd.DataFrame({'Magnitude': [event.magnitude for event in events],\n",
    "                       'Events':Xcol,\n",
    "                       'n_avg':n_avgcol,\n",
    "                       'Time':times,\n",
    "                       'x':x,\n",
    "                       'y':y,\n",
    "                       'Generation':gener}, index = interval)"
   ]
  }
 ],
 "metadata": {
  "kernelspec": {
   "display_name": "Python 3",
   "language": "python",
   "name": "python3"
  },
  "language_info": {
   "codemirror_mode": {
    "name": "ipython",
    "version": 3
   },
   "file_extension": ".py",
   "mimetype": "text/x-python",
   "name": "python",
   "nbconvert_exporter": "python",
   "pygments_lexer": "ipython3",
   "version": "3.6.6"
  }
 },
 "nbformat": 4,
 "nbformat_minor": 2
}
